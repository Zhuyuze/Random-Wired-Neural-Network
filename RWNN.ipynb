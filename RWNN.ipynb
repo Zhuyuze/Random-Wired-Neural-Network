{
 "cells": [
  {
   "cell_type": "code",
   "execution_count": 1,
   "metadata": {},
   "outputs": [],
   "source": [
    "import networkx as nx\n",
    "import os\n",
    "import torch\n",
    "import torch.nn as nn\n",
    "import torch.nn.functional as F\n",
    "import torch\n",
    "import torch.optim as optim\n",
    "from torch.optim.lr_scheduler import StepLR, ReduceLROnPlateau, CosineAnnealingLR\n",
    "import argparse\n",
    "import os\n",
    "import time\n",
    "from tqdm import tqdm\n",
    "import numpy as np\n",
    "import yaml"
   ]
  },
  {
   "cell_type": "code",
   "execution_count": 2,
   "metadata": {},
   "outputs": [],
   "source": [
    "class RandomGraph(object):\n",
    "    def __init__(self, node_num, p, k=4, m=5, graph_mode=\"ER\"):\n",
    "        self.node_num = node_num\n",
    "        self.p = p\n",
    "        self.k = k\n",
    "        self.m = m\n",
    "        self.graph_mode = graph_mode\n",
    "\n",
    "    def make_graph(self):\n",
    "        \n",
    "        # reference\n",
    "        # https://networkx.github.io/documentation/networkx-1.9/reference/generators.html\n",
    "        if self.graph_mode == \"ER\":\n",
    "            graph = nx.random_graphs.erdos_renyi_graph(self.node_num, self.p)\n",
    "        elif self.graph_mode == \"WS\":\n",
    "            graph = nx.random_graphs.watts_strogatz_graph(self.node_num, self.k, self.p)\n",
    "        elif self.graph_mode == \"BA\":\n",
    "            graph = nx.random_graphs.barabasi_albert_graph(self.node_num, self.m)\n",
    "\n",
    "        return graph\n",
    "\n",
    "    def get_graph_info(self, graph):\n",
    "        in_edges = {}\n",
    "        in_edges[0] = []\n",
    "        nodes = [0]\n",
    "        end = []\n",
    "        for node in graph.nodes():\n",
    "            neighbors = list(graph.neighbors(node))\n",
    "            neighbors.sort()\n",
    "\n",
    "            edges = []\n",
    "            check = []\n",
    "            for neighbor in neighbors:\n",
    "                if node > neighbor:\n",
    "                    edges.append(neighbor + 1)\n",
    "                    check.append(neighbor)\n",
    "            if not edges:\n",
    "                edges.append(0)\n",
    "            in_edges[node + 1] = edges\n",
    "            if check == neighbors:\n",
    "                end.append(node + 1)\n",
    "            nodes.append(node + 1)\n",
    "        in_edges[self.node_num + 1] = end\n",
    "        nodes.append(self.node_num + 1)\n",
    "\n",
    "        return nodes, in_edges\n",
    "\n",
    "    def save_random_graph(self, graph, path):\n",
    "        if not os.path.isdir(\"saved_graph\"):\n",
    "            os.mkdir(\"saved_graph\")\n",
    "        with open('./saved_graph/' + path, 'w') as f:\n",
    "            yaml.dump(graph, f)\n",
    "        #nx.write_yaml(graph, \"./saved_graph/\" + path)\n",
    "\n",
    "    def load_random_graph(self, path):\n",
    "        #return nx.read_yaml(\"./saved_graph/\" + path)\n",
    "        with open(\"./saved_graph/\" + path, 'r') as f:\n",
    "            G = yaml.load(f, Loader=yaml.loader)\n",
    "        return G"
   ]
  },
  {
   "cell_type": "code",
   "execution_count": 3,
   "metadata": {},
   "outputs": [],
   "source": [
    "def weights_init(m):\n",
    "    if isinstance(m, nn.Conv2d):\n",
    "        torch.nn.init.xavier_uniform_(m.weight)\n",
    "        if m.bias is not None:\n",
    "            torch.nn.init.zeros_(m.bias)\n",
    "#reference\n",
    "# https://github.com/tstandley/Xception-PyTorch/blob/master/xception.py\n",
    "class SeparableConv2d(nn.Module):\n",
    "    def __init__(self, in_channels, out_channels, kernel_size=3, stride=1, padding=1, dilation=1, bias=True):\n",
    "        super(SeparableConv2d, self).__init__()\n",
    "        self.conv = nn.Conv2d(in_channels, in_channels, kernel_size, stride, padding, dilation, groups=in_channels, bias=bias)\n",
    "        self.pointwise = nn.Conv2d(in_channels, out_channels, 1, 1, 0, 1, 1, bias=bias)\n",
    "\n",
    "        # self.apply(weights_init)\n",
    "\n",
    "    def forward(self, x):\n",
    "        x = self.conv(x)\n",
    "        x = self.pointwise(x)\n",
    "        return x\n",
    "\n",
    "\n",
    "# ReLU-convolution-BN triplet\n",
    "class Unit(nn.Module):\n",
    "    def __init__(self, in_channels, out_channels, stride=1):\n",
    "        super(Unit, self).__init__()\n",
    "\n",
    "        self.dropout_rate = 0.2\n",
    "\n",
    "        self.unit = nn.Sequential(\n",
    "            nn.ReLU(),\n",
    "            SeparableConv2d(in_channels, out_channels, stride=stride),\n",
    "            nn.BatchNorm2d(out_channels),\n",
    "            nn.Dropout(self.dropout_rate)\n",
    "        )\n",
    "\n",
    "    def forward(self, x):\n",
    "        return self.unit(x)\n",
    "\n",
    "\n",
    "# The paper announced \"The aggregation is done by weighted sum with learnable positive weights\".\n",
    "class Node(nn.Module):\n",
    "    def __init__(self, in_degree, in_channels, out_channels, stride=1):\n",
    "        super(Node, self).__init__()\n",
    "        self.in_degree = in_degree\n",
    "        if len(self.in_degree) > 1:\n",
    "            # self.weights = nn.Parameter(torch.zeros(len(self.in_degree), requires_grad=True))\n",
    "            self.weights = nn.Parameter(torch.ones(len(self.in_degree), requires_grad=True))\n",
    "        self.unit = Unit(in_channels, out_channels, stride=stride)\n",
    "\n",
    "    def forward(self, *input):\n",
    "        if len(self.in_degree) > 1:\n",
    "            x = (input[0] * torch.sigmoid(self.weights[0]))\n",
    "            for index in range(1, len(input)):\n",
    "                x += (input[index] * torch.sigmoid(self.weights[index]))\n",
    "            out = self.unit(x)\n",
    "\n",
    "            # different paper, add identity mapping\n",
    "            # out += x\n",
    "        else:\n",
    "            out = self.unit(input[0])\n",
    "        return out\n",
    "\n",
    "\n",
    "class RandWire(nn.Module):\n",
    "    def __init__(self, node_num, p, in_channels, out_channels, graph_mode, is_train, name):\n",
    "        super(RandWire, self).__init__()\n",
    "        self.node_num = node_num\n",
    "        self.p = p\n",
    "        self.in_channels = in_channels\n",
    "        self.out_channels = out_channels\n",
    "        self.graph_mode = graph_mode\n",
    "        self.is_train = is_train\n",
    "        self.name = name\n",
    "\n",
    "        # get graph nodes and in edges\n",
    "        graph_node = RandomGraph(self.node_num, self.p, graph_mode=graph_mode)\n",
    "        if self.is_train:\n",
    "            graph = graph_node.make_graph()\n",
    "            self.nodes, self.in_edges = graph_node.get_graph_info(graph)\n",
    "            graph_node.save_random_graph(graph, name)\n",
    "        else:\n",
    "            graph = graph_node.load_random_graph(name)\n",
    "            self.nodes, self.in_edges = graph_node.get_graph_info(graph)\n",
    "\n",
    "        # define input Node\n",
    "        self.module_list = nn.ModuleList([Node(self.in_edges[0], self.in_channels, self.out_channels, stride=2)])\n",
    "        # define the rest Node\n",
    "        self.module_list.extend([Node(self.in_edges[node], self.out_channels, self.out_channels) for node in self.nodes if node > 0])\n",
    "\n",
    "    def forward(self, x):\n",
    "        memory = {}\n",
    "        # start vertex\n",
    "        out = self.module_list[0].forward(x)\n",
    "        memory[0] = out\n",
    "\n",
    "        # the rest vertex\n",
    "        for node in range(1, len(self.nodes) - 1):\n",
    "            # print(node, self.in_edges[node][0], self.in_edges[node])\n",
    "            if len(self.in_edges[node]) > 1:\n",
    "                out = self.module_list[node].forward(*[memory[in_vertex] for in_vertex in self.in_edges[node]])\n",
    "            else:\n",
    "                out = self.module_list[node].forward(memory[self.in_edges[node][0]])\n",
    "            memory[node] = out\n",
    "        out = memory[self.in_edges[self.node_num + 1][0]]\n",
    "        for in_vertex_index in range(1, len(self.in_edges[self.node_num + 1])):\n",
    "            out += memory[self.in_edges[self.node_num + 1][in_vertex_index]]\n",
    "        out = out / len(self.in_edges[self.node_num + 1])\n",
    "        return out\n"
   ]
  },
  {
   "cell_type": "code",
   "execution_count": 4,
   "metadata": {},
   "outputs": [],
   "source": [
    "class Model(nn.Module):\n",
    "    def __init__(self, node_num, p, in_channels, out_channels, graph_mode, model_mode, dataset_mode, is_train):\n",
    "        super(Model, self).__init__()\n",
    "        self.node_num = node_num\n",
    "        self.p = p\n",
    "        self.in_channels = in_channels\n",
    "        self.out_channels = out_channels\n",
    "        self.graph_mode = graph_mode\n",
    "        self.model_mode = model_mode\n",
    "        self.is_train = is_train\n",
    "        self.dataset_mode = dataset_mode\n",
    "\n",
    "        self.num_classes = 1000\n",
    "        self.dropout_rate = 0.2\n",
    "\n",
    "        if self.dataset_mode == \"CIFAR10\":\n",
    "            self.num_classes = 10\n",
    "        elif self.dataset_mode == \"CIFAR100\":\n",
    "            self.num_classes = 100\n",
    "        elif self.dataset_mode == \"IMAGENET\":\n",
    "            self.num_classes = 1000\n",
    "        elif self.dataset_mode == \"MNIST\":\n",
    "            self.num_classes = 10\n",
    "\n",
    "        if self.model_mode == \"CIFAR10\":\n",
    "            self.CIFAR_conv1 = nn.Sequential(\n",
    "                nn.Conv2d(in_channels=3, out_channels=self.out_channels, kernel_size=3, padding=1),\n",
    "                nn.BatchNorm2d(self.out_channels),\n",
    "            )\n",
    "\n",
    "            self.CIFAR_conv2 = nn.Sequential(\n",
    "                RandWire(self.node_num, self.p, self.in_channels, self.out_channels, self.graph_mode, self.is_train, name=\"CIFAR_conv2\")\n",
    "            )\n",
    "            self.CIFAR_conv3 = nn.Sequential(\n",
    "                RandWire(self.node_num, self.p, self.in_channels, self.out_channels * 2, self.graph_mode, self.is_train, name=\"CIFAR_conv3\")\n",
    "            )\n",
    "            self.CIFAR_conv4 = nn.Sequential(\n",
    "                RandWire(self.node_num, self.p, self.in_channels * 2, self.out_channels * 4, self.graph_mode, self.is_train, name=\"CIFAR_conv4\")\n",
    "            )\n",
    "\n",
    "            self.CIFAR_classifier = nn.Sequential(\n",
    "                nn.Conv2d(self.in_channels * 4, 1280, kernel_size=1),\n",
    "                nn.BatchNorm2d(1280)\n",
    "            )\n",
    "        elif self.model_mode == \"CIFAR100\":\n",
    "            self.CIFAR100_conv1 = nn.Sequential(\n",
    "                nn.Conv2d(in_channels=3, out_channels=self.out_channels, kernel_size=3, padding=1),\n",
    "                nn.BatchNorm2d(self.out_channels),\n",
    "            )\n",
    "\n",
    "            self.CIFAR100_conv2 = nn.Sequential(\n",
    "                RandWire(self.node_num, self.p, self.in_channels, self.out_channels * 2, self.graph_mode, self.is_train, name=\"CIFAR100_conv2\")\n",
    "            )\n",
    "            self.CIFAR100_conv3 = nn.Sequential(\n",
    "                RandWire(self.node_num, self.p, self.in_channels * 2, self.out_channels * 4, self.graph_mode, self.is_train, name=\"CIFAR100_conv3\")\n",
    "            )\n",
    "            self.CIFAR100_conv4 = nn.Sequential(\n",
    "                RandWire(self.node_num, self.p, self.in_channels * 4, self.out_channels * 8, self.graph_mode, self.is_train, name=\"CIFAR100_conv4\")\n",
    "            )\n",
    "\n",
    "            self.CIFAR100_classifier = nn.Sequential(\n",
    "                nn.Conv2d(self.in_channels * 8, 1280, kernel_size=1),\n",
    "                nn.BatchNorm2d(1280)\n",
    "            )\n",
    "        elif self.model_mode == \"SMALL_REGIME\":\n",
    "            self.SMALL_conv1 = nn.Sequential(\n",
    "                nn.Conv2d(in_channels=3, out_channels=self.out_channels // 2, kernel_size=3, padding=1),\n",
    "                nn.BatchNorm2d(self.out_channels // 2),\n",
    "                nn.ReLU()\n",
    "            )\n",
    "            self.SMALL_conv2 = nn.Sequential(\n",
    "                nn.Conv2d(in_channels=self.in_channels // 2, out_channels=self.out_channels, kernel_size=3, padding=1),\n",
    "                nn.BatchNorm2d(self.out_channels)\n",
    "            )\n",
    "            self.SMALL_conv3 = nn.Sequential(\n",
    "                RandWire(self.node_num, self.p, self.in_channels, self.out_channels, self.graph_mode, self.is_train, name=\"SMALL_conv3\")\n",
    "            )\n",
    "            self.SMALL_conv4 = nn.Sequential(\n",
    "                RandWire(self.node_num, self.p, self.in_channels, self.out_channels * 2, self.graph_mode, self.is_train, name=\"SMALL_conv4\")\n",
    "            )\n",
    "            self.SMALL_conv5 = nn.Sequential(\n",
    "                RandWire(self.node_num, self.p, self.in_channels * 2, self.out_channels * 4, self.graph_mode, self.is_train, name=\"SMALL_conv5\")\n",
    "            )\n",
    "            self.SMALL_classifier = nn.Sequential(\n",
    "                nn.Conv2d(self.in_channels * 4, 1280, kernel_size=1),\n",
    "                nn.BatchNorm2d(1280)\n",
    "            )\n",
    "        elif self.model_mode == \"REGULAR_REGIME\":\n",
    "            self.REGULAR_conv1 = nn.Sequential(\n",
    "                nn.Conv2d(in_channels=3, out_channels=self.out_channels // 2, kernel_size=3, padding=1),\n",
    "                nn.BatchNorm2d(self.out_channels // 2)\n",
    "            )\n",
    "            self.REGULAR_conv2 = nn.Sequential(\n",
    "                RandWire(self.node_num // 2, self.p, self.in_channels // 2, self.out_channels, self.graph_mode, self.is_train, name=\"REGULAR_conv2\")\n",
    "            )\n",
    "            self.REGULAR_conv3 = nn.Sequential(\n",
    "                RandWire(self.node_num, self.p, self.in_channels, self.out_channels * 2, self.graph_mode, self.is_train, name=\"REGULAR_conv3\")\n",
    "            )\n",
    "            self.REGULAR_conv4 = nn.Sequential(\n",
    "                RandWire(self.node_num, self.p, self.in_channels * 2, self.out_channels * 4, self.graph_mode, self.is_train, name=\"REGULAR_conv4\")\n",
    "            )\n",
    "            self.REGULAR_conv5 = nn.Sequential(\n",
    "                RandWire(self.node_num, self.p, self.in_channels * 4, self.out_channels * 8, self.graph_mode, self.is_train, name=\"REGULAR_conv5\")\n",
    "            )\n",
    "            self.REGULAR_classifier = nn.Sequential(\n",
    "                nn.Conv2d(self.in_channels * 8, 1280, kernel_size=1),\n",
    "                nn.BatchNorm2d(1280)\n",
    "            )\n",
    "\n",
    "        self.output = nn.Sequential(\n",
    "            nn.Dropout(self.dropout_rate),\n",
    "            nn.Linear(1280, self.num_classes)\n",
    "        )\n",
    "\n",
    "    def forward(self, x):\n",
    "        if self.model_mode == \"CIFAR10\":\n",
    "            out = self.CIFAR_conv1(x)\n",
    "            out = self.CIFAR_conv2(out)\n",
    "            out = self.CIFAR_conv3(out)\n",
    "            out = self.CIFAR_conv4(out)\n",
    "            out = self.CIFAR_classifier(out)\n",
    "        elif self.model_mode == \"CIFAR100\":\n",
    "            out = self.CIFAR100_conv1(x)\n",
    "            out = self.CIFAR100_conv2(out)\n",
    "            out = self.CIFAR100_conv3(out)\n",
    "            out = self.CIFAR100_conv4(out)\n",
    "            out = self.CIFAR100_classifier(out)\n",
    "        elif self.model_mode == \"SMALL_REGIME\":\n",
    "            out = self.SMALL_conv1(x)\n",
    "            out = self.SMALL_conv2(out)\n",
    "            out = self.SMALL_conv3(out)\n",
    "            out = self.SMALL_conv4(out)\n",
    "            out = self.SMALL_conv5(out)\n",
    "            out = self.SMALL_classifier(out)\n",
    "        elif self.model_mode == \"REGULAR_REGIME\":\n",
    "            out = self.REGULAR_conv1(x)\n",
    "            out = self.REGULAR_conv2(out)\n",
    "            out = self.REGULAR_conv3(out)\n",
    "            out = self.REGULAR_conv4(out)\n",
    "            out = self.REGULAR_conv5(out)\n",
    "            out = self.REGULAR_classifier(out)\n",
    "\n",
    "        # global average pooling\n",
    "        out = F.avg_pool2d(out, kernel_size=out.size()[2:])\n",
    "        out = torch.squeeze(out)\n",
    "        out = self.output(out)\n",
    "\n",
    "        return out"
   ]
  },
  {
   "cell_type": "code",
   "execution_count": 5,
   "metadata": {},
   "outputs": [],
   "source": [
    "from torchvision import datasets, transforms\n",
    "\n",
    "\n",
    "# CIFAR-10,\n",
    "# mean, [0.4914, 0.4822, 0.4465]\n",
    "# std, [0.2470, 0.2435, 0.2616]\n",
    "# CIFAR-100,\n",
    "# mean, [0.5071, 0.4865, 0.4409]\n",
    "# std, [0.2673, 0.2564, 0.2762]\n",
    "def load_data(args):\n",
    "    if args.dataset_mode == \"CIFAR10\":\n",
    "        transform_train = transforms.Compose([\n",
    "            transforms.RandomCrop(32, padding=4),\n",
    "            transforms.RandomHorizontalFlip(),\n",
    "            transforms.ToTensor(),\n",
    "            transforms.Normalize((0.4914, 0.4822, 0.4465), (0.2023, 0.1994, 0.2010)),\n",
    "        ])\n",
    "\n",
    "        transform_test = transforms.Compose([\n",
    "            transforms.ToTensor(),\n",
    "            transforms.Normalize((0.4914, 0.4822, 0.4465), (0.2023, 0.1994, 0.2010)),\n",
    "        ])\n",
    "        train_loader = torch.utils.data.DataLoader(\n",
    "            datasets.CIFAR10('data', train=True, download=True, transform=transform_train),\n",
    "            batch_size=args.batch_size,\n",
    "            shuffle=True,\n",
    "            num_workers=2\n",
    "        )\n",
    "\n",
    "        test_loader = torch.utils.data.DataLoader(\n",
    "            datasets.CIFAR10('data', train=False, transform=transform_test),\n",
    "            batch_size=args.batch_size,\n",
    "            shuffle=False,\n",
    "            num_workers=2\n",
    "        )\n",
    "    elif args.dataset_mode == \"CIFAR100\":\n",
    "        transform_train = transforms.Compose([\n",
    "            transforms.RandomCrop(32, padding=4),\n",
    "            transforms.RandomHorizontalFlip(),\n",
    "            transforms.ToTensor(),\n",
    "            transforms.Normalize((0.5071, 0.4865, 0.4409), (0.2673, 0.2564, 0.2762)),\n",
    "        ])\n",
    "\n",
    "        transform_test = transforms.Compose([\n",
    "            transforms.ToTensor(),\n",
    "            transforms.Normalize((0.5071, 0.4865, 0.4409), (0.2673, 0.2564, 0.2762)),\n",
    "        ])\n",
    "        train_loader = torch.utils.data.DataLoader(\n",
    "            datasets.CIFAR100('data', train=True, download=True, transform=transform_train),\n",
    "            batch_size=args.batch_size,\n",
    "            shuffle=True,\n",
    "            num_workers=2\n",
    "        )\n",
    "\n",
    "        test_loader = torch.utils.data.DataLoader(\n",
    "            datasets.CIFAR100('data', train=False, transform=transform_test),\n",
    "            batch_size=args.batch_size,\n",
    "            shuffle=False,\n",
    "            num_workers=2\n",
    "        )\n",
    "    elif args.dataset_mode == \"MNIST\":\n",
    "        transform_train = transforms.Compose([\n",
    "            transforms.ToTensor(),\n",
    "            transforms.Normalize((0.1307,), (0.3081,)),\n",
    "        ])\n",
    "\n",
    "        transform_test = transforms.Compose([\n",
    "            transforms.ToTensor(),\n",
    "            transforms.Normalize((0.1307,), (0.3081,)),\n",
    "        ])\n",
    "        train_loader = torch.utils.data.DataLoader(\n",
    "            datasets.CIFAR100('data', train=True, download=True, transform=transform_train),\n",
    "            batch_size=args.batch_size,\n",
    "            shuffle=True,\n",
    "            num_workers=2\n",
    "        )\n",
    "\n",
    "        test_loader = torch.utils.data.DataLoader(\n",
    "            datasets.CIFAR100('data', train=False, transform=transform_test),\n",
    "            batch_size=args.batch_size,\n",
    "            shuffle=True,\n",
    "            num_workers=2\n",
    "        )\n",
    "\n",
    "    return train_loader, test_loader"
   ]
  },
  {
   "cell_type": "code",
   "execution_count": 6,
   "metadata": {},
   "outputs": [],
   "source": [
    "import matplotlib.pyplot as plt\n",
    "\n",
    "def draw_plot(epoch_list, train_loss_list, train_acc_list, val_acc_list):\n",
    "    plt.figure(figsize=(10, 4))\n",
    "    plt.subplot(121)\n",
    "    plt.plot(epoch_list, train_loss_list, label='training loss')\n",
    "    plt.legend()\n",
    "\n",
    "    plt.subplot(122)\n",
    "    plt.plot(epoch_list, train_acc_list, label='train acc')\n",
    "    plt.plot(epoch_list, val_acc_list, label='validation acc')\n",
    "    plt.legend()\n",
    "\n",
    "    if os.path.isdir('./plot'):\n",
    "        plt.savefig('./plot/epoch_acc_plot.png')\n",
    "\n",
    "    else:\n",
    "        os.makedirs('./plot')\n",
    "        plt.savefig('./plot/epoch_acc_plot.png')\n",
    "    plt.close()"
   ]
  },
  {
   "cell_type": "code",
   "execution_count": 7,
   "metadata": {},
   "outputs": [
    {
     "data": {
      "text/plain": [
       "True"
      ]
     },
     "execution_count": 7,
     "metadata": {},
     "output_type": "execute_result"
    }
   ],
   "source": [
    "torch.cuda.is_available()"
   ]
  },
  {
   "cell_type": "code",
   "execution_count": null,
   "metadata": {
    "scrolled": false
   },
   "outputs": [
    {
     "name": "stdout",
     "output_type": "stream",
     "text": [
      "Files already downloaded and verified\n"
     ]
    },
    {
     "name": "stderr",
     "output_type": "stream",
     "text": [
      "epoch 1:  19%|█████████████▉                                                          | 97/500 [00:18<01:09,  5.82it/s]"
     ]
    },
    {
     "name": "stdout",
     "output_type": "stream",
     "text": [
      "[Epoch    1] Loss: 1.890 Acc: 27.000%  Current learning rate is: 0.1\n"
     ]
    },
    {
     "name": "stderr",
     "output_type": "stream",
     "text": [
      "epoch 1:  40%|████████████████████████████▎                                          | 199/500 [00:36<00:52,  5.76it/s]"
     ]
    },
    {
     "name": "stdout",
     "output_type": "stream",
     "text": [
      "[Epoch    1] Loss: 1.885 Acc: 36.000%  Current learning rate is: 0.1\n"
     ]
    },
    {
     "name": "stderr",
     "output_type": "stream",
     "text": [
      "epoch 1:  60%|██████████████████████████████████████████▋                            | 301/500 [00:53<00:33,  5.91it/s]"
     ]
    },
    {
     "name": "stdout",
     "output_type": "stream",
     "text": [
      "[Epoch    1] Loss: 1.607 Acc: 43.000%  Current learning rate is: 0.1\n"
     ]
    },
    {
     "name": "stderr",
     "output_type": "stream",
     "text": [
      "epoch 1:  79%|████████████████████████████████████████████████████████▎              | 397/500 [01:10<00:17,  5.84it/s]"
     ]
    },
    {
     "name": "stdout",
     "output_type": "stream",
     "text": [
      "[Epoch    1] Loss: 1.548 Acc: 46.000%  Current learning rate is: 0.1\n"
     ]
    },
    {
     "name": "stderr",
     "output_type": "stream",
     "text": [
      "epoch 1: 100%|███████████████████████████████████████████████████████████████████████| 500/500 [01:27<00:00,  5.69it/s]\n"
     ]
    },
    {
     "name": "stdout",
     "output_type": "stream",
     "text": [
      "[Epoch    1] Loss: 1.550 Acc: 45.000%  Current learning rate is: 0.1\n"
     ]
    },
    {
     "name": "stderr",
     "output_type": "stream",
     "text": [
      "evaluation: 100%|████████████████████████████████████████████████████████████████████| 100/100 [00:05<00:00, 17.26it/s]\n"
     ]
    },
    {
     "name": "stdout",
     "output_type": "stream",
     "text": [
      "Test set accuracy: 41.640%\n",
      "Saving..\n",
      "Training time:  93.90887880325317\n"
     ]
    },
    {
     "name": "stderr",
     "output_type": "stream",
     "text": [
      "epoch 2:  19%|█████████████▉                                                          | 97/500 [00:19<01:08,  5.87it/s]"
     ]
    },
    {
     "name": "stdout",
     "output_type": "stream",
     "text": [
      "[Epoch    2] Loss: 1.520 Acc: 42.000%  Current learning rate is: 0.1\n"
     ]
    },
    {
     "name": "stderr",
     "output_type": "stream",
     "text": [
      "epoch 2:  40%|████████████████████████████▍                                          | 200/500 [00:36<00:50,  5.93it/s]"
     ]
    },
    {
     "name": "stdout",
     "output_type": "stream",
     "text": [
      "[Epoch    2] Loss: 1.192 Acc: 54.000%  Current learning rate is: 0.1\n"
     ]
    },
    {
     "name": "stderr",
     "output_type": "stream",
     "text": [
      "epoch 2:  59%|██████████████████████████████████████████▏                            | 297/500 [00:53<00:34,  5.92it/s]"
     ]
    },
    {
     "name": "stdout",
     "output_type": "stream",
     "text": [
      "[Epoch    2] Loss: 1.297 Acc: 56.000%  Current learning rate is: 0.1\n"
     ]
    },
    {
     "name": "stderr",
     "output_type": "stream",
     "text": [
      "epoch 2:  80%|████████████████████████████████████████████████████████▉              | 401/500 [01:11<00:17,  5.82it/s]"
     ]
    },
    {
     "name": "stdout",
     "output_type": "stream",
     "text": [
      "[Epoch    2] Loss: 1.409 Acc: 47.000%  Current learning rate is: 0.1\n"
     ]
    },
    {
     "name": "stderr",
     "output_type": "stream",
     "text": [
      "epoch 2: 100%|███████████████████████████████████████████████████████████████████████| 500/500 [01:28<00:00,  5.68it/s]\n"
     ]
    },
    {
     "name": "stdout",
     "output_type": "stream",
     "text": [
      "[Epoch    2] Loss: 1.293 Acc: 54.000%  Current learning rate is: 0.1\n"
     ]
    },
    {
     "name": "stderr",
     "output_type": "stream",
     "text": [
      "evaluation: 100%|████████████████████████████████████████████████████████████████████| 100/100 [00:06<00:00, 16.28it/s]\n"
     ]
    },
    {
     "name": "stdout",
     "output_type": "stream",
     "text": [
      "Test set accuracy: 53.150%\n",
      "Saving..\n",
      "Training time:  188.29803848266602\n"
     ]
    },
    {
     "name": "stderr",
     "output_type": "stream",
     "text": [
      "epoch 3:  20%|██████████████▎                                                         | 99/500 [00:19<01:09,  5.77it/s]"
     ]
    },
    {
     "name": "stdout",
     "output_type": "stream",
     "text": [
      "[Epoch    3] Loss: 1.164 Acc: 58.000%  Current learning rate is: 0.1\n"
     ]
    },
    {
     "name": "stderr",
     "output_type": "stream",
     "text": [
      "epoch 3:  40%|████████████████████████████▌                                          | 201/500 [00:37<00:51,  5.81it/s]"
     ]
    },
    {
     "name": "stdout",
     "output_type": "stream",
     "text": [
      "[Epoch    3] Loss: 1.135 Acc: 54.000%  Current learning rate is: 0.1\n"
     ]
    },
    {
     "name": "stderr",
     "output_type": "stream",
     "text": [
      "epoch 3:  59%|██████████████████████████████████████████▏                            | 297/500 [00:53<00:35,  5.79it/s]"
     ]
    },
    {
     "name": "stdout",
     "output_type": "stream",
     "text": [
      "[Epoch    3] Loss: 1.154 Acc: 56.000%  Current learning rate is: 0.1\n"
     ]
    },
    {
     "name": "stderr",
     "output_type": "stream",
     "text": [
      "epoch 3:  80%|████████████████████████████████████████████████████████▉              | 401/500 [01:11<00:17,  5.75it/s]"
     ]
    },
    {
     "name": "stdout",
     "output_type": "stream",
     "text": [
      "[Epoch    3] Loss: 1.046 Acc: 60.000%  Current learning rate is: 0.1\n"
     ]
    },
    {
     "name": "stderr",
     "output_type": "stream",
     "text": [
      "epoch 3: 100%|███████████████████████████████████████████████████████████████████████| 500/500 [01:28<00:00,  5.62it/s]\n"
     ]
    },
    {
     "name": "stdout",
     "output_type": "stream",
     "text": [
      "[Epoch    3] Loss: 1.046 Acc: 64.000%  Current learning rate is: 0.1\n"
     ]
    },
    {
     "name": "stderr",
     "output_type": "stream",
     "text": [
      "evaluation: 100%|████████████████████████████████████████████████████████████████████| 100/100 [00:05<00:00, 17.01it/s]\n"
     ]
    },
    {
     "name": "stdout",
     "output_type": "stream",
     "text": [
      "Test set accuracy: 55.080%\n",
      "Saving..\n",
      "Training time:  283.24726486206055\n"
     ]
    },
    {
     "name": "stderr",
     "output_type": "stream",
     "text": [
      "epoch 4:  20%|██████████████                                                          | 98/500 [00:19<01:08,  5.90it/s]"
     ]
    },
    {
     "name": "stdout",
     "output_type": "stream",
     "text": [
      "[Epoch    4] Loss: 0.890 Acc: 69.000%  Current learning rate is: 0.1\n"
     ]
    },
    {
     "name": "stderr",
     "output_type": "stream",
     "text": [
      "epoch 4:  40%|████████████████████████████▍                                          | 200/500 [00:36<00:51,  5.83it/s]"
     ]
    },
    {
     "name": "stdout",
     "output_type": "stream",
     "text": [
      "[Epoch    4] Loss: 1.268 Acc: 51.000%  Current learning rate is: 0.1\n"
     ]
    },
    {
     "name": "stderr",
     "output_type": "stream",
     "text": [
      "epoch 4:  59%|██████████████████████████████████████████                             | 296/500 [00:53<00:34,  5.83it/s]"
     ]
    },
    {
     "name": "stdout",
     "output_type": "stream",
     "text": [
      "[Epoch    4] Loss: 1.044 Acc: 61.000%  Current learning rate is: 0.1\n"
     ]
    },
    {
     "name": "stderr",
     "output_type": "stream",
     "text": [
      "epoch 4:  80%|████████████████████████████████████████████████████████▌              | 398/500 [01:11<00:17,  5.83it/s]"
     ]
    },
    {
     "name": "stdout",
     "output_type": "stream",
     "text": [
      "[Epoch    4] Loss: 0.869 Acc: 72.000%  Current learning rate is: 0.1\n"
     ]
    },
    {
     "name": "stderr",
     "output_type": "stream",
     "text": [
      "epoch 4: 100%|███████████████████████████████████████████████████████████████████████| 500/500 [01:28<00:00,  5.65it/s]\n"
     ]
    },
    {
     "name": "stdout",
     "output_type": "stream",
     "text": [
      "[Epoch    4] Loss: 0.853 Acc: 71.000%  Current learning rate is: 0.1\n"
     ]
    },
    {
     "name": "stderr",
     "output_type": "stream",
     "text": [
      "evaluation: 100%|████████████████████████████████████████████████████████████████████| 100/100 [00:05<00:00, 16.99it/s]\n"
     ]
    },
    {
     "name": "stdout",
     "output_type": "stream",
     "text": [
      "Test set accuracy: 66.300%\n",
      "Saving..\n",
      "Training time:  377.86622762680054\n"
     ]
    },
    {
     "name": "stderr",
     "output_type": "stream",
     "text": [
      "epoch 5:  19%|█████████████▉                                                          | 97/500 [00:19<01:08,  5.85it/s]"
     ]
    },
    {
     "name": "stdout",
     "output_type": "stream",
     "text": [
      "[Epoch    5] Loss: 1.048 Acc: 65.000%  Current learning rate is: 0.1\n"
     ]
    },
    {
     "name": "stderr",
     "output_type": "stream",
     "text": [
      "epoch 5:  40%|████████████████████████████▎                                          | 199/500 [00:36<00:51,  5.87it/s]"
     ]
    },
    {
     "name": "stdout",
     "output_type": "stream",
     "text": [
      "[Epoch    5] Loss: 1.188 Acc: 54.000%  Current learning rate is: 0.1\n"
     ]
    },
    {
     "name": "stderr",
     "output_type": "stream",
     "text": [
      "epoch 5:  60%|██████████████████████████████████████████▋                            | 301/500 [00:54<00:34,  5.83it/s]"
     ]
    },
    {
     "name": "stdout",
     "output_type": "stream",
     "text": [
      "[Epoch    5] Loss: 1.002 Acc: 64.000%  Current learning rate is: 0.1\n"
     ]
    },
    {
     "name": "stderr",
     "output_type": "stream",
     "text": [
      "epoch 5:  79%|████████████████████████████████████████████████████████▎              | 397/500 [01:10<00:17,  5.86it/s]"
     ]
    },
    {
     "name": "stdout",
     "output_type": "stream",
     "text": [
      "[Epoch    5] Loss: 0.915 Acc: 70.000%  Current learning rate is: 0.1\n"
     ]
    },
    {
     "name": "stderr",
     "output_type": "stream",
     "text": [
      "epoch 5: 100%|███████████████████████████████████████████████████████████████████████| 500/500 [01:28<00:00,  5.63it/s]\n"
     ]
    },
    {
     "name": "stdout",
     "output_type": "stream",
     "text": [
      "[Epoch    5] Loss: 0.827 Acc: 70.000%  Current learning rate is: 0.1\n"
     ]
    },
    {
     "name": "stderr",
     "output_type": "stream",
     "text": [
      "evaluation: 100%|████████████████████████████████████████████████████████████████████| 100/100 [00:06<00:00, 16.09it/s]\n"
     ]
    },
    {
     "name": "stdout",
     "output_type": "stream",
     "text": [
      "Test set accuracy: 62.800%\n",
      "Training time:  472.92651295661926\n"
     ]
    },
    {
     "name": "stderr",
     "output_type": "stream",
     "text": [
      "epoch 6:  19%|█████████████▉                                                          | 97/500 [00:19<01:10,  5.73it/s]"
     ]
    },
    {
     "name": "stdout",
     "output_type": "stream",
     "text": [
      "[Epoch    6] Loss: 0.886 Acc: 73.000%  Current learning rate is: 0.1\n"
     ]
    },
    {
     "name": "stderr",
     "output_type": "stream",
     "text": [
      "epoch 6:  40%|████████████████████████████▎                                          | 199/500 [00:37<00:52,  5.74it/s]"
     ]
    },
    {
     "name": "stdout",
     "output_type": "stream",
     "text": [
      "[Epoch    6] Loss: 0.997 Acc: 65.000%  Current learning rate is: 0.1\n"
     ]
    },
    {
     "name": "stderr",
     "output_type": "stream",
     "text": [
      "epoch 6:  60%|██████████████████████████████████████████▋                            | 301/500 [00:54<00:34,  5.73it/s]"
     ]
    },
    {
     "name": "stdout",
     "output_type": "stream",
     "text": [
      "[Epoch    6] Loss: 0.908 Acc: 70.000%  Current learning rate is: 0.1\n"
     ]
    },
    {
     "name": "stderr",
     "output_type": "stream",
     "text": [
      "epoch 6:  79%|████████████████████████████████████████████████████████▎              | 397/500 [01:11<00:17,  5.76it/s]"
     ]
    },
    {
     "name": "stdout",
     "output_type": "stream",
     "text": [
      "[Epoch    6] Loss: 0.804 Acc: 73.000%  Current learning rate is: 0.1\n"
     ]
    },
    {
     "name": "stderr",
     "output_type": "stream",
     "text": [
      "epoch 6: 100%|███████████████████████████████████████████████████████████████████████| 500/500 [01:29<00:00,  5.60it/s]\n"
     ]
    },
    {
     "name": "stdout",
     "output_type": "stream",
     "text": [
      "[Epoch    6] Loss: 0.746 Acc: 72.000%  Current learning rate is: 0.1\n"
     ]
    },
    {
     "name": "stderr",
     "output_type": "stream",
     "text": [
      "evaluation: 100%|████████████████████████████████████████████████████████████████████| 100/100 [00:06<00:00, 16.33it/s]\n"
     ]
    },
    {
     "name": "stdout",
     "output_type": "stream",
     "text": [
      "Test set accuracy: 69.640%\n",
      "Saving..\n",
      "Training time:  568.4811627864838\n"
     ]
    },
    {
     "name": "stderr",
     "output_type": "stream",
     "text": [
      "epoch 7:  19%|█████████████▉                                                          | 97/500 [00:19<01:10,  5.75it/s]"
     ]
    },
    {
     "name": "stdout",
     "output_type": "stream",
     "text": [
      "[Epoch    7] Loss: 0.897 Acc: 66.000%  Current learning rate is: 0.1\n"
     ]
    },
    {
     "name": "stderr",
     "output_type": "stream",
     "text": [
      "epoch 7:  40%|████████████████████████████▎                                          | 199/500 [00:37<00:52,  5.78it/s]"
     ]
    },
    {
     "name": "stdout",
     "output_type": "stream",
     "text": [
      "[Epoch    7] Loss: 0.731 Acc: 74.000%  Current learning rate is: 0.1\n"
     ]
    },
    {
     "name": "stderr",
     "output_type": "stream",
     "text": [
      "epoch 7:  60%|██████████████████████████████████████████▋                            | 301/500 [00:54<00:34,  5.80it/s]"
     ]
    },
    {
     "name": "stdout",
     "output_type": "stream",
     "text": [
      "[Epoch    7] Loss: 1.011 Acc: 67.000%  Current learning rate is: 0.1\n"
     ]
    },
    {
     "name": "stderr",
     "output_type": "stream",
     "text": [
      "epoch 7:  79%|████████████████████████████████████████████████████████▎              | 397/500 [01:11<00:17,  5.76it/s]"
     ]
    },
    {
     "name": "stdout",
     "output_type": "stream",
     "text": [
      "[Epoch    7] Loss: 0.829 Acc: 70.000%  Current learning rate is: 0.1\n"
     ]
    },
    {
     "name": "stderr",
     "output_type": "stream",
     "text": [
      "epoch 7: 100%|███████████████████████████████████████████████████████████████████████| 500/500 [01:29<00:00,  5.61it/s]\n"
     ]
    },
    {
     "name": "stdout",
     "output_type": "stream",
     "text": [
      "[Epoch    7] Loss: 0.904 Acc: 65.000%  Current learning rate is: 0.1\n"
     ]
    },
    {
     "name": "stderr",
     "output_type": "stream",
     "text": [
      "evaluation: 100%|████████████████████████████████████████████████████████████████████| 100/100 [00:06<00:00, 15.77it/s]\n"
     ]
    },
    {
     "name": "stdout",
     "output_type": "stream",
     "text": [
      "Test set accuracy: 66.420%\n",
      "Training time:  663.9804215431213\n"
     ]
    },
    {
     "name": "stderr",
     "output_type": "stream",
     "text": [
      "epoch 8:  19%|█████████████▉                                                          | 97/500 [00:19<01:09,  5.79it/s]"
     ]
    },
    {
     "name": "stdout",
     "output_type": "stream",
     "text": [
      "[Epoch    8] Loss: 0.884 Acc: 69.000%  Current learning rate is: 0.1\n"
     ]
    },
    {
     "name": "stderr",
     "output_type": "stream",
     "text": [
      "epoch 8:  40%|████████████████████████████▎                                          | 199/500 [00:36<00:52,  5.75it/s]"
     ]
    },
    {
     "name": "stdout",
     "output_type": "stream",
     "text": [
      "[Epoch    8] Loss: 0.813 Acc: 71.000%  Current learning rate is: 0.1\n"
     ]
    },
    {
     "name": "stderr",
     "output_type": "stream",
     "text": [
      "epoch 8:  60%|██████████████████████████████████████████▋                            | 301/500 [00:54<00:34,  5.77it/s]"
     ]
    },
    {
     "name": "stdout",
     "output_type": "stream",
     "text": [
      "[Epoch    8] Loss: 0.791 Acc: 70.000%  Current learning rate is: 0.1\n"
     ]
    },
    {
     "name": "stderr",
     "output_type": "stream",
     "text": [
      "epoch 8:  79%|████████████████████████████████████████████████████████▎              | 397/500 [01:11<00:17,  5.81it/s]"
     ]
    },
    {
     "name": "stdout",
     "output_type": "stream",
     "text": [
      "[Epoch    8] Loss: 0.752 Acc: 77.000%  Current learning rate is: 0.1\n"
     ]
    },
    {
     "name": "stderr",
     "output_type": "stream",
     "text": [
      "epoch 8: 100%|███████████████████████████████████████████████████████████████████████| 500/500 [01:29<00:00,  5.60it/s]\n"
     ]
    },
    {
     "name": "stdout",
     "output_type": "stream",
     "text": [
      "[Epoch    8] Loss: 0.964 Acc: 67.000%  Current learning rate is: 0.1\n"
     ]
    },
    {
     "name": "stderr",
     "output_type": "stream",
     "text": [
      "evaluation: 100%|████████████████████████████████████████████████████████████████████| 100/100 [00:06<00:00, 15.99it/s]\n"
     ]
    },
    {
     "name": "stdout",
     "output_type": "stream",
     "text": [
      "Test set accuracy: 71.400%\n",
      "Saving..\n",
      "Training time:  759.7576265335083\n"
     ]
    },
    {
     "name": "stderr",
     "output_type": "stream",
     "text": [
      "epoch 9:  19%|█████████████▉                                                          | 97/500 [00:19<01:10,  5.73it/s]"
     ]
    },
    {
     "name": "stdout",
     "output_type": "stream",
     "text": [
      "[Epoch    9] Loss: 0.631 Acc: 77.000%  Current learning rate is: 0.1\n"
     ]
    },
    {
     "name": "stderr",
     "output_type": "stream",
     "text": [
      "epoch 9:  40%|████████████████████████████▎                                          | 199/500 [00:37<00:51,  5.83it/s]"
     ]
    },
    {
     "name": "stdout",
     "output_type": "stream",
     "text": [
      "[Epoch    9] Loss: 0.968 Acc: 69.000%  Current learning rate is: 0.1\n"
     ]
    },
    {
     "name": "stderr",
     "output_type": "stream",
     "text": [
      "epoch 9:  60%|██████████████████████████████████████████▋                            | 301/500 [00:54<00:34,  5.79it/s]"
     ]
    },
    {
     "name": "stdout",
     "output_type": "stream",
     "text": [
      "[Epoch    9] Loss: 0.824 Acc: 70.000%  Current learning rate is: 0.1\n"
     ]
    },
    {
     "name": "stderr",
     "output_type": "stream",
     "text": [
      "epoch 9:  79%|████████████████████████████████████████████████████████▎              | 397/500 [01:11<00:17,  5.78it/s]"
     ]
    },
    {
     "name": "stdout",
     "output_type": "stream",
     "text": [
      "[Epoch    9] Loss: 0.798 Acc: 72.000%  Current learning rate is: 0.1\n"
     ]
    },
    {
     "name": "stderr",
     "output_type": "stream",
     "text": [
      "epoch 9: 100%|███████████████████████████████████████████████████████████████████████| 500/500 [01:29<00:00,  5.60it/s]\n"
     ]
    },
    {
     "name": "stdout",
     "output_type": "stream",
     "text": [
      "[Epoch    9] Loss: 0.874 Acc: 69.000%  Current learning rate is: 0.1\n"
     ]
    },
    {
     "name": "stderr",
     "output_type": "stream",
     "text": [
      "evaluation: 100%|████████████████████████████████████████████████████████████████████| 100/100 [00:06<00:00, 16.46it/s]\n"
     ]
    },
    {
     "name": "stdout",
     "output_type": "stream",
     "text": [
      "Test set accuracy: 70.060%\n",
      "Training time:  855.1209456920624\n"
     ]
    },
    {
     "name": "stderr",
     "output_type": "stream",
     "text": [
      "epoch 10:  19%|█████████████▊                                                         | 97/500 [00:19<01:09,  5.81it/s]"
     ]
    },
    {
     "name": "stdout",
     "output_type": "stream",
     "text": [
      "[Epoch   10] Loss: 0.741 Acc: 76.000%  Current learning rate is: 0.1\n"
     ]
    },
    {
     "name": "stderr",
     "output_type": "stream",
     "text": [
      "epoch 10:  24%|████████████████▉                                                     | 121/500 [00:23<01:06,  5.69it/s]"
     ]
    }
   ],
   "source": [
    "use_cuda = torch.cuda.is_available()\n",
    "device = torch.device(\"cuda\" if use_cuda else \"cpu\")\n",
    "\n",
    "def adjust_learning_rate(optimizer, epoch, args):\n",
    "    \"\"\"Sets the learning rate to the initial LR decayed by 10 every 30 epochs\"\"\"\n",
    "    lr = args.learning_rate * (0.1 ** (epoch // 30))\n",
    "    for param_group in optimizer.param_groups:\n",
    "        param_group['lr'] = lr\n",
    "\n",
    "\n",
    "test_acc_list = []\n",
    "train_acc_list = []\n",
    "train_loss_list = []\n",
    "\n",
    "def train(model, train_loader, optimizer, criterion, epoch, args):\n",
    "    model.train()\n",
    "    step = 0\n",
    "    train_loss = 0\n",
    "    train_acc = 0\n",
    "    for data, target in tqdm(train_loader, desc=\"epoch \" + str(epoch), mininterval=1):\n",
    "        adjust_learning_rate(optimizer, epoch, args)\n",
    "        data, target = data.to(device), target.to(device)\n",
    "\n",
    "        optimizer.zero_grad()\n",
    "        output = model(data)\n",
    "        loss = criterion(output, target)\n",
    "        loss.backward()\n",
    "        optimizer.step()\n",
    "        train_loss += loss.data\n",
    "        y_pred = output.data.max(1)[1]\n",
    "\n",
    "        acc = float(y_pred.eq(target.data).sum()) / len(data) * 100.\n",
    "        train_acc += acc\n",
    "        step += 1\n",
    "        if step % 100 == 0:\n",
    "            print(\"[Epoch {0:4d}] Loss: {1:2.3f} Acc: {2:.3f}%\".format(epoch, loss.data, acc), end='')\n",
    "            for param_group in optimizer.param_groups:\n",
    "                print(\"  Current learning rate is: {}\".format(param_group['lr']))\n",
    "\n",
    "    length = len(train_loader.dataset) // args.batch_size\n",
    "    return train_loss / length, train_acc / length\n",
    "\n",
    "\n",
    "def test(model, test_loader):\n",
    "    model.eval()\n",
    "    correct = 0\n",
    "    for data, target in tqdm(test_loader, desc=\"evaluation\", mininterval=1):\n",
    "        data, target = data.to(device), target.to(device)\n",
    "        output = model(data)\n",
    "        prediction = output.data.max(1)[1]\n",
    "        correct += prediction.eq(target.data).sum()\n",
    "\n",
    "    acc = 100. * float(correct) / len(test_loader.dataset)\n",
    "    return acc\n",
    "\n",
    "\n",
    "def main():\n",
    "    parser = argparse.ArgumentParser('parameters')\n",
    "\n",
    "    parser.add_argument('--epochs', type=int, default=20, help='number of epochs, (default: 20)')\n",
    "    parser.add_argument('--p', type=float, default=0.75, help='graph probability, (default: 0.75)')\n",
    "    parser.add_argument('--c', type=int, default=78, help='channel count for each node, 109, 154 (default: 154)')\n",
    "    parser.add_argument('--k', type=int, default=4, help='each node is connected to k nearest neighbors in ring topology, (default: 4)')\n",
    "    parser.add_argument('--m', type=int, default=5, help='number of edges to attach from a new node to existing nodes, (default: 5)')\n",
    "    parser.add_argument('--graph-mode', type=str, default=\"BA\", help=\"random graph, (Example: ER, WS, BA), (default: WS)\")\n",
    "    parser.add_argument('--node-num', type=int, default=32, help=\"Number of graph node (default n=32)\")\n",
    "    parser.add_argument('--learning-rate', type=float, default=1e-1, help='learning rate, (default: 1e-1)')\n",
    "    parser.add_argument('--batch-size', type=int, default=100, help='batch size, (default: 100)')\n",
    "    parser.add_argument('--model-mode', type=str, default=\"CIFAR10\", help='CIFAR10, CIFAR100, SMALL_REGIME, REGULAR_REGIME, (default: CIFAR10)')\n",
    "    parser.add_argument('--dataset-mode', type=str, default=\"CIFAR10\", help='Which dataset to use? (Example, CIFAR10, CIFAR100, MNIST), (default: CIFAR10)')\n",
    "    parser.add_argument('--load-model', type=bool, default=False)\n",
    "    parser.add_argument('--is-train', type=bool, default=True)\n",
    "\n",
    "    args = parser.parse_args([])\n",
    "\n",
    "    train_loader, test_loader = load_data(args)\n",
    "\n",
    "    if args.load_model:\n",
    "        model = Model(args.node_num, args.p, args.c, args.c, args.graph_mode, args.model_mode, args.dataset_mode, args.is_train).to(device)\n",
    "        filename = \"c_\" + str(args.c) + \"_p_\" + str(args.p) + \"_graph_mode_\" + args.graph_mode + \"_dataset_\" + args.dataset_mode\n",
    "        checkpoint = torch.load('./checkpoint/' + filename + 'ckpt.t7')\n",
    "        model.load_state_dict(checkpoint['model'])\n",
    "        epoch = checkpoint['epoch']\n",
    "        acc = checkpoint['acc']\n",
    "        print(\"Load Model Accuracy: \", acc, \"Load Model end epoch: \", epoch)\n",
    "    else:\n",
    "        model = Model(args.node_num, args.p, args.c, args.c, args.graph_mode, args.model_mode, args.dataset_mode, args.is_train).to(device)\n",
    "\n",
    "    optimizer = optim.SGD(model.parameters(), lr=args.learning_rate, weight_decay=5e-4, momentum=0.9)\n",
    "    criterion = nn.CrossEntropyLoss().to(device)\n",
    "\n",
    "    epoch_list = []\n",
    "    max_test_acc = 0\n",
    "    if not os.path.isdir(\"reporting\"):\n",
    "        os.mkdir(\"reporting\")\n",
    "\n",
    "    start_time = time.time()\n",
    "    with open(\"./reporting/\" + \"c_\" + str(args.c) + \"_p_\" + str(args.p) + \"_graph_mode_\" + args.graph_mode + \"_dataset_\" + args.dataset_mode + \".txt\", \"w\") as f:\n",
    "        for epoch in range(1, args.epochs + 1):\n",
    "            # scheduler = CosineAnnealingLR(optimizer, epoch)\n",
    "            epoch_list.append(epoch)\n",
    "            train_loss, train_acc = train(model , train_loader, optimizer, criterion, epoch, args)\n",
    "            test_acc = test(model, test_loader)\n",
    "            test_acc_list.append(test_acc)\n",
    "            train_loss_list.append(train_loss.cpu())\n",
    "            train_acc_list.append(train_acc)\n",
    "            print('Test set accuracy: {0:.3f}%'.format(test_acc))\n",
    "            f.write(\"[Epoch {0:3d}] Test set accuracy: {1:.3f}%\".format(epoch, test_acc))\n",
    "            f.write(\"\\n \")\n",
    "\n",
    "            if max_test_acc < test_acc:\n",
    "                print('Saving..')\n",
    "                state = {\n",
    "                    'model': model.state_dict(),\n",
    "                    'acc': test_acc,\n",
    "                    'epoch': epoch,\n",
    "                }\n",
    "                if not os.path.isdir('checkpoint'):\n",
    "                    os.mkdir('checkpoint')\n",
    "                filename = \"c_\" + str(args.c) + \"_p_\" + str(\n",
    "                    args.p) + \"_graph_mode_\" + args.graph_mode + \"_dataset_\" + args.dataset_mode\n",
    "                torch.save(state, './checkpoint/' + filename + 'ckpt.t7')\n",
    "                max_test_acc = test_acc\n",
    "                draw_plot(epoch_list, train_loss_list, train_acc_list, test_acc_list)\n",
    "            print(\"Training time: \", time.time() - start_time)\n",
    "            f.write(\"Training time: \" + str(time.time() - start_time))\n",
    "            f.write(\"\\n\")\n",
    "\n",
    "\n",
    "if __name__ == '__main__':\n",
    "    main()\n"
   ]
  },
  {
   "cell_type": "code",
   "execution_count": 12,
   "metadata": {},
   "outputs": [],
   "source": [
    "def showlss(running_loss):\n",
    "    # generate x value\n",
    "    x = np.array([i for i in range(len(running_loss))])\n",
    "    # generate y value\n",
    "    y = np.array(running_loss)\n",
    "    # define a graph\n",
    "    plt.figure()\n",
    "    # generate curve\n",
    "    plt.plot(x, y, c='b')\n",
    "    # show axis\n",
    "    plt.axis()\n",
    "    # define title\n",
    "    plt.title('loss curve:')\n",
    "    #define the name of x axis\n",
    "    plt.xlabel('step')\n",
    "    plt.ylabel('loss value')\n",
    "    # show graph\n",
    "    plt.show()\n",
    "    \n",
    "def showacc(running_accuracy):\n",
    "    x = np.array([i for i in range(len(running_accuracy))])\n",
    "    y = np.array(running_accuracy)\n",
    "    plt.figure()\n",
    "    plt.plot(x, y, c='b')\n",
    "    plt.axis()\n",
    "    plt.title('accuracy curve:')\n",
    "    plt.xlabel('step')\n",
    "    plt.ylabel('accuracy value')\n",
    "    plt.show()"
   ]
  },
  {
   "cell_type": "code",
   "execution_count": 13,
   "metadata": {},
   "outputs": [
    {
     "data": {
      "image/png": "[encoded data removed]",
      "text/plain": [
       "<Figure size 432x288 with 1 Axes>"
      ]
     },
     "metadata": {
      "needs_background": "light"
     },
     "output_type": "display_data"
    },
    {
     "data": {
      "image/png": "[encoded data removed]",
      "text/plain": [
       "<Figure size 432x288 with 1 Axes>"
      ]
     },
     "metadata": {
      "needs_background": "light"
     },
     "output_type": "display_data"
    }
   ],
   "source": [
    "showlss(train_loss_list)\n",
    "showacc(train_acc_list)"
   ]
  },
  {
   "cell_type": "code",
   "execution_count": 35,
   "metadata": {},
   "outputs": [],
   "source": [
    "\n",
    "    train_acc_list = []\n",
    "    train_loss_list = []"
   ]
  },
  {
   "cell_type": "code",
   "execution_count": null,
   "metadata": {},
   "outputs": [],
   "source": []
  }
 ],
 "metadata": {
  "kernelspec": {
   "display_name": "Python 3 (ipykernel)",
   "language": "python",
   "name": "python3"
  },
  "language_info": {
   "codemirror_mode": {
    "name": "ipython",
    "version": 3
   },
   "file_extension": ".py",
   "mimetype": "text/x-python",
   "name": "python",
   "nbconvert_exporter": "python",
   "pygments_lexer": "ipython3",
   "version": "3.9.7"
  }
 },
 "nbformat": 4,
 "nbformat_minor": 2
}
